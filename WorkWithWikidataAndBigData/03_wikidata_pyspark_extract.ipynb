{
 "cells": [
  {
   "cell_type": "markdown",
   "metadata": {},
   "source": [
    "# Savoir sélectionner des données\n",
    "\n",
    "Nous allons voir comment lire le dump de Wikidata et y sélectionner des données pour fabriquer notre propre CSV."
   ]
  },
  {
   "cell_type": "markdown",
   "metadata": {},
   "source": [
    "## Comment lire le Json du dump de Wikidata ?\n",
    "\n",
    "On retire les lignes vides ou qui ne contiennent pas d'enregistrement et la virgule à la fin."
   ]
  },
  {
   "cell_type": "code",
   "execution_count": null,
   "metadata": {
    "collapsed": false,
    "deletable": true,
    "editable": true
   },
   "outputs": [],
   "source": [
    "import time\n",
    "import json\n",
    "\n",
    "start = time.time()\n",
    "\n",
    "wikiFile = sc.textFile('wikidata-dump-2017-04-24.json')\n",
    "\n",
    "def extractProperty(entity, prop):\n",
    "    try: return entity.get('claims').get(prop)[0].get('mainsnak').get('datavalue').get('value').get('id') \n",
    "    except: return ''\n",
    "    \n",
    "def extractLabel(entity, lang):\n",
    "    try: return entity.get('labels').get(lang).get('value')\n",
    "    except: return ''\n",
    "    \n",
    "def loadJsonAndSkipError(string):\n",
    "    try: return [json.loads(string)]\n",
    "    except: return []\n",
    "\n",
    "rddExtractWikidata = wikiFile \\\n",
    "  .filter(lambda x: '{' in x) \\\n",
    "  .flatMap(lambda x: loadJsonAndSkipError(x[:-1])) \\\n",
    "  .map(lambda x: ( int(x.get('id')[1:]),   \n",
    "                      {\n",
    "                          'id' : x.get('id'),\n",
    "                          'label_en': extractLabel(x,'en') ,\n",
    "                           'P734': extractProperty(x, 'P734')\n",
    "                      }\n",
    "                 )\\\n",
    "       )  \n",
    "    \n",
    "#print(rddExtractWikidata.take(5))\n",
    "\n",
    "def changeKey(x,newKey):\n",
    "    K, V = x\n",
    "    if V[newKey] == '' :\n",
    "        return []\n",
    "    else:        \n",
    "        return [(int(V[newKey][1:]), V)]\n",
    "\n",
    "rddP734 =  rddExtractWikidata.flatMap(lambda x: changeKey(x,'P734'))\n",
    "#print(rddP734.take(5))\n",
    "\n",
    "rddLabel = rddExtractWikidata.mapValues(lambda v: \n",
    "                              {'P734_Label_en': v['label_en']}\n",
    "                          )\n",
    "#print(rddLabel.take(5))\n",
    "\n",
    "#And finally the join\n",
    "rddJoinP734 = rddP734.join(rddLabel)\n",
    "#print(rddJoinP734.take(5))\n",
    "\n",
    "#Organize header of CSV\n",
    "rddForDataFrame = rddJoinP734.map(lambda x:  \n",
    "                                       Row(                                           \n",
    "                                           idWikidata=x[1][0][\"id\"], \n",
    "                                           label_en=x[1][0][\"label_en\"], \n",
    "                                           P734=x[1][0][\"P734\"], \n",
    "                                           P734_Label_en=x[1][1][\"P734_Label_en\"]\n",
    "                                          )\n",
    "                                      )\n",
    "#Create the dataframe\n",
    "df = spark.createDataFrame(rddForDataFrame)\n",
    "\n",
    "#Save the dataframe \n",
    "#in one file\n",
    "#df.coalesce(1).write.csv('rddForDataFrameCSV',header=True)\n",
    "df.write.csv('folderFinalResultCSV',header=True)\n",
    "\n",
    "end = time.time()\n",
    "print(end - start, 'seconds')"
   ]
  },
  {
   "cell_type": "code",
   "execution_count": null,
   "metadata": {
    "collapsed": true
   },
   "outputs": [],
   "source": []
  }
 ],
 "metadata": {
  "kernelspec": {
   "display_name": "Apache Toree - PySpark",
   "language": "python",
   "name": "apache_toree_pyspark"
  },
  "language_info": {
   "file_extension": ".py",
   "name": "python",
   "pygments_lexer": "python",
   "version": "3.6.0\n"
  }
 },
 "nbformat": 4,
 "nbformat_minor": 2
}
